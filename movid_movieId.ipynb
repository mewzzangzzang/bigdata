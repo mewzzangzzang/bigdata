{
 "cells": [
  {
   "cell_type": "code",
   "execution_count": 3,
   "metadata": {},
   "outputs": [],
   "source": [
    "import numpy as np"
   ]
  },
  {
   "cell_type": "code",
   "execution_count": 7,
   "metadata": {},
   "outputs": [
    {
     "data": {
      "text/plain": [
       "array([[        1,      1193,         5, 978300760],\n",
       "       [        1,       661,         3, 978302109],\n",
       "       [        1,       914,         3, 978301968],\n",
       "       [        1,      3408,         4, 978300275],\n",
       "       [        1,      2355,         5, 978824291],\n",
       "       [        1,      1197,         3, 978302268],\n",
       "       [        1,      1287,         5, 978302039],\n",
       "       [        1,      2804,         5, 978300719],\n",
       "       [        1,       594,         4, 978302268],\n",
       "       [        1,       919,         4, 978301368]], dtype=int64)"
      ]
     },
     "execution_count": 7,
     "metadata": {},
     "output_type": "execute_result"
    }
   ],
   "source": [
    "data = np.genfromtxt('data/ml-1m/ratings.dat',delimiter='::',dtype=np.int64)\n",
    "data[:10]"
   ]
  },
  {
   "cell_type": "code",
   "execution_count": 11,
   "metadata": {},
   "outputs": [
    {
     "name": "stdout",
     "output_type": "stream",
     "text": [
      "(1000209, 4)\n"
     ]
    }
   ],
   "source": [
    "print(data.shape)"
   ]
  },
  {
   "cell_type": "code",
   "execution_count": 16,
   "metadata": {},
   "outputs": [
    {
     "name": "stdout",
     "output_type": "stream",
     "text": [
      "[1 2 3 4 5]\n",
      "(3706,)\n"
     ]
    }
   ],
   "source": [
    "movie_ids=np.unique(data[:,1])\n",
    "print(movie_ids[:5])\n",
    "print(movie_ids.shape)"
   ]
  },
  {
   "cell_type": "code",
   "execution_count": 21,
   "metadata": {},
   "outputs": [],
   "source": [
    "mean_values=[]\n",
    "for movie_id in movie_ids:\n",
    "    data_for_movie=data[data[:,1]==movie_id,:]\n",
    "    value=data_for_movie[:,2].mean()\n",
    "    mean_values.append([movie_id,value])"
   ]
  },
  {
   "cell_type": "code",
   "execution_count": 22,
   "metadata": {},
   "outputs": [
    {
     "data": {
      "text/plain": [
       "[[1, 4.146846413095811],\n",
       " [2, 3.20114122681883],\n",
       " [3, 3.01673640167364],\n",
       " [4, 2.7294117647058824],\n",
       " [5, 3.0067567567567566],\n",
       " [6, 3.8787234042553194],\n",
       " [7, 3.410480349344978],\n",
       " [8, 3.014705882352941],\n",
       " [9, 2.656862745098039],\n",
       " [10, 3.5405405405405403]]"
      ]
     },
     "execution_count": 22,
     "metadata": {},
     "output_type": "execute_result"
    }
   ],
   "source": [
    "mean_values[:10]"
   ]
  },
  {
   "cell_type": "code",
   "execution_count": 23,
   "metadata": {},
   "outputs": [
    {
     "name": "stdout",
     "output_type": "stream",
     "text": [
      "[[ 1.         4.1468463]\n",
      " [ 2.         3.201141 ]\n",
      " [ 3.         3.0167365]\n",
      " [ 4.         2.7294118]\n",
      " [ 5.         3.0067568]\n",
      " [ 6.         3.8787234]\n",
      " [ 7.         3.4104803]\n",
      " [ 8.         3.014706 ]\n",
      " [ 9.         2.6568627]\n",
      " [10.         3.5405405]]\n",
      "(3706, 2)\n"
     ]
    }
   ],
   "source": [
    "mean_arry=np.array(mean_values,dtype=np.float32)\n",
    "print(mean_arry[:10])\n",
    "print(mean_arry.shape)"
   ]
  },
  {
   "cell_type": "code",
   "execution_count": 20,
   "metadata": {},
   "outputs": [],
   "source": [
    "np.savetxt('data/movieId_result.csv',mean_arry,delimiter=',')"
   ]
  }
 ],
 "metadata": {
  "kernelspec": {
   "display_name": "base",
   "language": "python",
   "name": "python3"
  },
  "language_info": {
   "codemirror_mode": {
    "name": "ipython",
    "version": 3
   },
   "file_extension": ".py",
   "mimetype": "text/x-python",
   "name": "python",
   "nbconvert_exporter": "python",
   "pygments_lexer": "ipython3",
   "version": "3.11.4"
  },
  "orig_nbformat": 4
 },
 "nbformat": 4,
 "nbformat_minor": 2
}
