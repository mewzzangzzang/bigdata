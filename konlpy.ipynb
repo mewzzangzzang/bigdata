{
 "cells": [
  {
   "cell_type": "code",
   "execution_count": 9,
   "metadata": {},
   "outputs": [],
   "source": [
    "from konlpy.tag import * \n",
    "hannanum=Hannanum()\n",
    "# pip install konlpy\n",
    "# 아나콘다 프롬프터에서 설치하기\n",
    "# 자바홈 변수설정\n",
    "kkma=Kkma()\n",
    "komoran=Komoran()\n",
    "okt=Okt()"
   ]
  },
  {
   "cell_type": "code",
   "execution_count": 10,
   "metadata": {},
   "outputs": [
    {
     "data": {
      "text/plain": [
       "['constitution.txt']"
      ]
     },
     "execution_count": 10,
     "metadata": {},
     "output_type": "execute_result"
    }
   ],
   "source": [
    "from konlpy.corpus import kolaw\n",
    "# 대한민국 헌법\n",
    "kolaw.fileids()\n",
    "# 필드설정\n"
   ]
  },
  {
   "cell_type": "code",
   "execution_count": 12,
   "metadata": {},
   "outputs": [
    {
     "data": {
      "text/plain": [
       "['1809890.txt',\n",
       " '1809891.txt',\n",
       " '1809892.txt',\n",
       " '1809893.txt',\n",
       " '1809894.txt',\n",
       " '1809895.txt',\n",
       " '1809896.txt',\n",
       " '1809897.txt',\n",
       " '1809898.txt',\n",
       " '1809899.txt']"
      ]
     },
     "execution_count": 12,
     "metadata": {},
     "output_type": "execute_result"
    }
   ],
   "source": [
    "from konlpy.corpus import kobill\n",
    "kobill.fileids()\n",
    "# 법안 말뭉치"
   ]
  },
  {
   "cell_type": "code",
   "execution_count": 15,
   "metadata": {},
   "outputs": [
    {
     "name": "stdout",
     "output_type": "stream",
     "text": [
      "대한민국헌법\n",
      "\n",
      "유구한 역사와 전통에 빛나는 우리 대한국민은 3·1운동으로 건립된 대한민국임\n",
      "지방공무원법 일부개정법률안\n",
      "\n",
      "(정의화의원 대표발의 )\n",
      "\n",
      " 의 안\n",
      " 번 호\n",
      "\n",
      "9890\n",
      "\n",
      "발의연월일 : 2010.  11.  12.  \n",
      "\n",
      "발  의  자 : 정의화․이명수․김을동 \n",
      "\n",
      "이\n"
     ]
    }
   ],
   "source": [
    "c=kolaw.open('constitution.txt').read()\n",
    "print(c[:50])\n",
    "k=kobill.open(\"1809890.txt\").read()\n",
    "print(k[:100])\n"
   ]
  },
  {
   "cell_type": "markdown",
   "metadata": {},
   "source": [
    "형태소 분석기 공통적 기능\n",
    " - nouns : 명사 추출\n",
    " - mprphs : 형태소 추출\n",
    " - pos : 형태소 추출과 품사태깅 "
   ]
  },
  {
   "cell_type": "code",
   "execution_count": 14,
   "metadata": {},
   "outputs": [
    {
     "name": "stdout",
     "output_type": "stream",
     "text": [
      "대한민국헌법\n",
      "\n",
      "유구한 역사와 전통에 빛나는 우리 대한국민은 3·1운동으로 건립된 대한민국임\n"
     ]
    }
   ],
   "source": [
    "c=kolaw.open('constitution.txt').read()\n",
    "print(c[:50])"
   ]
  },
  {
   "cell_type": "code",
   "execution_count": 18,
   "metadata": {},
   "outputs": [
    {
     "name": "stdout",
     "output_type": "stream",
     "text": [
      "대한민국헌법\n",
      "\n",
      "유구한 역사와 전통에 빛나는 우리 대한국민은 3·1운동으로 건립된 대한민국임\n"
     ]
    },
    {
     "data": {
      "text/plain": [
       "['대한민국헌법', '유구', '역사', '전통', '빛', '우리', '대한국민', '3·1운동', '건립', '대한민국임']"
      ]
     },
     "execution_count": 18,
     "metadata": {},
     "output_type": "execute_result"
    }
   ],
   "source": [
    "print(c[:50])\n",
    "# 명사만 추출하기\n",
    "hannanum.nouns(c[:50])\n",
    "# 단순 공백으로 구분해서 추출\n"
   ]
  },
  {
   "cell_type": "code",
   "execution_count": 25,
   "metadata": {},
   "outputs": [
    {
     "data": {
      "text/plain": [
       "['대한',\n",
       " '대한민국',\n",
       " '대한민국헌법',\n",
       " '민국',\n",
       " '헌법',\n",
       " '유구',\n",
       " '역사',\n",
       " '전통',\n",
       " '우리',\n",
       " '국민',\n",
       " '3',\n",
       " '1',\n",
       " '1운동',\n",
       " '운동',\n",
       " '건립',\n",
       " '대한민국임',\n",
       " '임']"
      ]
     },
     "execution_count": 25,
     "metadata": {},
     "output_type": "execute_result"
    }
   ],
   "source": [
    "kkma.nouns(c[:50])\n",
    "# 합성어 구분, 합해서 추출"
   ]
  },
  {
   "cell_type": "code",
   "execution_count": 24,
   "metadata": {},
   "outputs": [
    {
     "data": {
      "text/plain": [
       "['대한민국', '헌법', '유구', '역사', '전통', '우리', '국민', '운동', '건립', '대한민국', '임']"
      ]
     },
     "execution_count": 24,
     "metadata": {},
     "output_type": "execute_result"
    }
   ],
   "source": [
    "okt.nouns(c[:50])\n",
    "# 줄임말도 하나의 명사로 구분,추출"
   ]
  },
  {
   "cell_type": "code",
   "execution_count": 28,
   "metadata": {},
   "outputs": [
    {
     "data": {
      "text/plain": [
       "['대한민국', '헌법', '역사', '전통', '국민', '운동', '건립', '대한민국', '임']"
      ]
     },
     "execution_count": 28,
     "metadata": {},
     "output_type": "execute_result"
    }
   ],
   "source": [
    "komoran.nouns(c[:50])\n",
    "# 합성어는 감가후 추출"
   ]
  },
  {
   "cell_type": "code",
   "execution_count": null,
   "metadata": {},
   "outputs": [],
   "source": []
  }
 ],
 "metadata": {
  "kernelspec": {
   "display_name": "base",
   "language": "python",
   "name": "python3"
  },
  "language_info": {
   "codemirror_mode": {
    "name": "ipython",
    "version": 3
   },
   "file_extension": ".py",
   "mimetype": "text/x-python",
   "name": "python",
   "nbconvert_exporter": "python",
   "pygments_lexer": "ipython3",
   "version": "3.11.4"
  },
  "orig_nbformat": 4
 },
 "nbformat": 4,
 "nbformat_minor": 2
}
