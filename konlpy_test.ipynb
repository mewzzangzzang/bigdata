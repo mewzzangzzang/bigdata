{
 "cells": [
  {
   "cell_type": "code",
   "execution_count": 58,
   "metadata": {},
   "outputs": [],
   "source": [
    "from konlpy.tag import *\n",
    "from nltk import Text\n",
    "import matplotlib.pylab as plt\n",
    "from matplotlib import font_manager , rc\n",
    "kkma=Kkma()"
   ]
  },
  {
   "cell_type": "code",
   "execution_count": 59,
   "metadata": {},
   "outputs": [],
   "source": [
    "fontname='c:/Windows/fonts/malgun.ttf'\n",
    "# 한글폰트 \n",
    "font_name=font_manager.FontProperties(fname=fontname).get_name()\n",
    "rc('font',family=font_name)"
   ]
  },
  {
   "cell_type": "code",
   "execution_count": 60,
   "metadata": {},
   "outputs": [
    {
     "data": {
      "text/plain": [
       "'코로나19 이후 ‘마스크 없는’ 첫 추석 연휴가 최소 6일에서 최장 12일까지 이어지면서 김해국제공항 국내외 항공편과 부산 해운대 특급호텔이 크게 들썩인다. 5일 국무회의에서 추석 연휴와 개천절 사이에 낀 다음 달 2일을 임시공휴일로 의결하면서 이런 분위기는 더 확산할 것으로 보인다.\\n\\n\\n부산 김해국제공항 국제선 청사가 항공편 탑승 수속을 밟는 여행객들로 북적이고 있다. 국제신문DB\\n5일 국제신문 취재를 종합하면 추석 연휴 김해국제공항 국내외 항공편 예약률이 가파르게 오르고 있다. 이 기간 에어부산 국제선 항공편 예약률은 이미 90%를 넘어섰다. 일본 오사카·후쿠오카, 베트남 나트랑 노선 순으로 인기가 높다. 에어부산 국내선 항공편 예약률 역시 80%대에 달한다. 다음 달 3일(개천절) 부산으로 돌아오는 에어부산 국내선 항공편은 이미 만석이다.\\n\\n제주항공도 일본 노선에서 높은 예약률을 기록 중이다. 오사카가 90% 초반대, 도쿄·후쿠오카는 80% 중반대 예약이 이뤄졌다. 제주항공과 대한항공의 대만 등 동남아 국가 노선도 자리가 다 찼다. 연휴가 길어 상대적으로 거리가 먼 동남아·대양주 노선에도 여행객이 몰린 것으로 분석된다. 다음 달 2일이 임시공휴일로 지정돼 개인 휴가를 쓰면 추석 연휴 시작인 오는 28일부터 한글날인 다음 달 9일까지 최장 12일을 쉴 수 있다.\\n\\n해운대와 기장 해변을 따라 늘어선 지역 특급호텔 예약률도 80~90%대를 나타내고 있다. 해운대 A호텔은 오는 28~29일 예약률이 벌써 90%를 넘었다. B호텔은 오는 28일부터 다음 달 9일까지 평균 예약률이 80%를 넘길 것으로 예상된다. 지난해 추석 연휴 B호텔 평균 예약률은 70%대였다. C, D호텔도 추석 연휴 예약률이 80% 중반대를 기록하고 있다. 추석 연휴에다 다음 달 4일 개막하는 부산국제영화제 효과가 더해졌다. C호텔 관계자는 “다음 달 2일을 임시공휴일로 지정하는 방안이 논의된 이후 예약이 급증했다”고 말했다.\\n\\n직장인 3명 중 2명은 추석 연휴 여행에 나설 것으로 조사됐다. 호텔스닷컴이 최근 3년간 한 차례 이상 국내외 여행을 한 만 25∼65세 직장인 1000명을 대상으로 설문 조사한 결과 65%가 ‘이번 추석 기간 여행을 계획하고 있다’고 답했다. 또 56%는 연휴를 길게 즐기기 위해 ‘하루 이상 연차를 사용할 의향이 있다’고 했다. 투숙 기간을 올해 9, 10월로 설정한 해외여행 검색량도 지난해 같은 기간보다 56% 이상 늘었다.\\n\\n항공사들은 모처럼 맞은 특수를 잡기 위해 국내외 항공편을 늘리고 파격적인 프로모션을 내놓고 있다. 에어부산은 오는 7일까지 부산·인천에서 출발하는 중국·대만·동남아·몽골 노선 항공권을 최대 90% 할인한다. 부산지역 관광업계 관계자는 “엔데믹 첫 추석 연휴가 길어지면서 내수 경기도 북돋울 것으로 기대한다”고 말했다.\\nⓒ국제신문(www.kookje.co.kr), 무단 전재 및 재배포 금지\\n▶[국제신문 페이스북] [국제신문 인스타그램]'"
      ]
     },
     "execution_count": 60,
     "metadata": {},
     "output_type": "execute_result"
    }
   ],
   "source": [
    "# 개인 네이버 뉴스 텍스트파일\n",
    "data=open('data/data.txt').read()\n",
    "data"
   ]
  },
  {
   "cell_type": "code",
   "execution_count": 61,
   "metadata": {},
   "outputs": [
    {
     "data": {
      "text/plain": [
       "['코로나',\n",
       " '코로나19',\n",
       " '19',\n",
       " '이후',\n",
       " '마스크',\n",
       " '추석',\n",
       " '연휴',\n",
       " '최소',\n",
       " '6',\n",
       " '6일',\n",
       " '일',\n",
       " '최장',\n",
       " '12',\n",
       " '12일',\n",
       " '김',\n",
       " '국제',\n",
       " '국제공항',\n",
       " '공항',\n",
       " '국내외',\n",
       " '항공편',\n",
       " '부산',\n",
       " '해운대',\n",
       " '특급',\n",
       " '특급호텔',\n",
       " '호텔',\n",
       " '5',\n",
       " '5일',\n",
       " '국무',\n",
       " '국무회의',\n",
       " '회의',\n",
       " '개천절',\n",
       " '사이',\n",
       " '다음',\n",
       " '달',\n",
       " '2',\n",
       " '2일',\n",
       " '임시',\n",
       " '임시공휴일',\n",
       " '공휴일',\n",
       " '의결',\n",
       " '분위기',\n",
       " '확산',\n",
       " '국제선',\n",
       " '청',\n",
       " '청사가',\n",
       " '사가',\n",
       " '탑승',\n",
       " '수속',\n",
       " '여행객',\n",
       " '로',\n",
       " '국제신문',\n",
       " '신문',\n",
       " '취재',\n",
       " '종합',\n",
       " '예약',\n",
       " '이',\n",
       " '기간',\n",
       " '에어',\n",
       " '에어부산',\n",
       " '90',\n",
       " '일본',\n",
       " '오사카',\n",
       " '후',\n",
       " '베트남',\n",
       " '나트랑',\n",
       " '노선',\n",
       " '순',\n",
       " '인기',\n",
       " '국내선',\n",
       " '80',\n",
       " '대',\n",
       " '3',\n",
       " '3일',\n",
       " '만석',\n",
       " '제주',\n",
       " '제주항공',\n",
       " '항공',\n",
       " '기록',\n",
       " '중이',\n",
       " '반대',\n",
       " '도쿄',\n",
       " '중',\n",
       " '중반대',\n",
       " '등',\n",
       " '동남아',\n",
       " '국가',\n",
       " '자리',\n",
       " '상대적',\n",
       " '거리',\n",
       " '대양주',\n",
       " '분석',\n",
       " '지정',\n",
       " '개인',\n",
       " '휴가',\n",
       " '시작인',\n",
       " '28',\n",
       " '28일',\n",
       " '한글날',\n",
       " '9',\n",
       " '9일',\n",
       " '수',\n",
       " '기장',\n",
       " '해변',\n",
       " '지역',\n",
       " '29',\n",
       " '29일',\n",
       " '평균',\n",
       " '예상',\n",
       " '지난해',\n",
       " '70',\n",
       " '4',\n",
       " '4일',\n",
       " '개막',\n",
       " '부산국제영화제',\n",
       " '영화제',\n",
       " '효과',\n",
       " '관계자',\n",
       " '방안',\n",
       " '논의',\n",
       " '급증',\n",
       " '고',\n",
       " '직장',\n",
       " '3명',\n",
       " '명',\n",
       " '중',\n",
       " '2명',\n",
       " '여행',\n",
       " '조사',\n",
       " '호텔스닷컴',\n",
       " '최근',\n",
       " '3년간',\n",
       " '년',\n",
       " '간',\n",
       " '차례',\n",
       " '이상',\n",
       " '만',\n",
       " '25',\n",
       " '65',\n",
       " '65세',\n",
       " '세',\n",
       " '직장인',\n",
       " '1000',\n",
       " '1000명',\n",
       " '대상',\n",
       " '설문',\n",
       " '결과',\n",
       " '이번',\n",
       " '계획',\n",
       " '답',\n",
       " '56',\n",
       " '하루',\n",
       " '연차',\n",
       " '사용',\n",
       " '의향',\n",
       " '투숙',\n",
       " '올해',\n",
       " '10',\n",
       " '10월',\n",
       " '월',\n",
       " '설정',\n",
       " '해외여행',\n",
       " '검색',\n",
       " '검색량',\n",
       " '량',\n",
       " '항공사',\n",
       " '특수',\n",
       " '파격적',\n",
       " '프로',\n",
       " '프로모션',\n",
       " '모션',\n",
       " '7',\n",
       " '7일',\n",
       " '인천',\n",
       " '출발',\n",
       " '중국',\n",
       " '몽',\n",
       " '몽골',\n",
       " '골',\n",
       " '항공권',\n",
       " '최대',\n",
       " '할인',\n",
       " '부산지역',\n",
       " '관광',\n",
       " '관광업계',\n",
       " '업계',\n",
       " '데',\n",
       " '데믹',\n",
       " '믹',\n",
       " '내수',\n",
       " '경기',\n",
       " '경기도',\n",
       " '도',\n",
       " '기대',\n",
       " '무단',\n",
       " '전재',\n",
       " '배포',\n",
       " '금지',\n",
       " '페이스',\n",
       " '페이스북',\n",
       " '북',\n",
       " '인',\n",
       " '인스타그램',\n",
       " '스타',\n",
       " '그램']"
      ]
     },
     "execution_count": 61,
     "metadata": {},
     "output_type": "execute_result"
    }
   ],
   "source": [
    "# 명사추출\n",
    "# kkma 사용\n",
    "kkma.nouns(data)\n"
   ]
  },
  {
   "cell_type": "code",
   "execution_count": 62,
   "metadata": {},
   "outputs": [
    {
     "data": {
      "image/png": "[encoded data removed]",
      "text/plain": [
       "<Figure size 640x480 with 1 Axes>"
      ]
     },
     "metadata": {},
     "output_type": "display_data"
    }
   ],
   "source": [
    "news_tx=Text(kkma.nouns(data))\n",
    "news_tx.plot(20)\n",
    "# 차트화\n",
    "plt.show()"
   ]
  },
  {
   "cell_type": "code",
   "execution_count": 63,
   "metadata": {},
   "outputs": [
    {
     "data": {
      "text/plain": [
       "FreqDist({'중': 2, '코로나': 1, '코로나19': 1, '19': 1, '이후': 1, '마스크': 1, '추석': 1, '연휴': 1, '최소': 1, '6': 1, ...})"
      ]
     },
     "execution_count": 63,
     "metadata": {},
     "output_type": "execute_result"
    }
   ],
   "source": [
    "# 출현빈도 계산\n",
    "kv=news_tx.vocab()\n",
    "kv"
   ]
  },
  {
   "cell_type": "code",
   "execution_count": 78,
   "metadata": {},
   "outputs": [
    {
     "name": "stdout",
     "output_type": "stream",
     "text": [
      "Counter({'중': 2, '코로나': 1, '코로나19': 1, '19': 1, '이후': 1, '마스크': 1, '추석': 1, '연휴': 1, '최소': 1, '6': 1, '6일': 1, '일': 1, '최장': 1, '12': 1, '12일': 1, '김': 1, '국제': 1, '국제공항': 1, '공항': 1, '국내외': 1, '항공편': 1, '부산': 1, '해운대': 1, '특급': 1, '특급호텔': 1, '호텔': 1, '5': 1, '5일': 1, '국무': 1, '국무회의': 1, '회의': 1, '개천절': 1, '사이': 1, '다음': 1, '달': 1, '2': 1, '2일': 1, '임시': 1, '임시공휴일': 1, '공휴일': 1, '의결': 1, '분위기': 1, '확산': 1, '국제선': 1, '청': 1, '청사가': 1, '사가': 1, '탑승': 1, '수속': 1, '여행객': 1, '로': 1, '국제신문': 1, '신문': 1, '취재': 1, '종합': 1, '예약': 1, '이': 1, '기간': 1, '에어': 1, '에어부산': 1, '90': 1, '일본': 1, '오사카': 1, '후': 1, '베트남': 1, '나트랑': 1, '노선': 1, '순': 1, '인기': 1, '국내선': 1, '80': 1, '대': 1, '3': 1, '3일': 1, '만석': 1, '제주': 1, '제주항공': 1, '항공': 1, '기록': 1, '중이': 1, '반대': 1, '도쿄': 1, '중반대': 1, '등': 1, '동남아': 1, '국가': 1, '자리': 1, '상대적': 1, '거리': 1, '대양주': 1, '분석': 1, '지정': 1, '개인': 1, '휴가': 1, '시작인': 1, '28': 1, '28일': 1, '한글날': 1, '9': 1, '9일': 1, '수': 1, '기장': 1, '해변': 1, '지역': 1, '29': 1, '29일': 1, '평균': 1, '예상': 1, '지난해': 1, '70': 1, '4': 1, '4일': 1, '개막': 1, '부산국제영화제': 1, '영화제': 1, '효과': 1, '관계자': 1, '방안': 1, '논의': 1, '급증': 1, '고': 1, '직장': 1, '3명': 1, '명': 1, '2명': 1, '여행': 1, '조사': 1, '호텔스닷컴': 1, '최근': 1, '3년간': 1, '년': 1, '간': 1, '차례': 1, '이상': 1, '만': 1, '25': 1, '65': 1, '65세': 1, '세': 1, '직장인': 1, '1000': 1, '1000명': 1, '대상': 1, '설문': 1, '결과': 1, '이번': 1, '계획': 1, '답': 1, '56': 1, '하루': 1, '연차': 1, '사용': 1, '의향': 1, '투숙': 1, '올해': 1, '10': 1, '10월': 1, '월': 1, '설정': 1, '해외여행': 1, '검색': 1, '검색량': 1, '량': 1, '항공사': 1, '특수': 1, '파격적': 1, '프로': 1, '프로모션': 1, '모션': 1, '7': 1, '7일': 1, '인천': 1, '출발': 1, '중국': 1, '몽': 1, '몽골': 1, '골': 1, '항공권': 1, '최대': 1, '할인': 1, '부산지역': 1, '관광': 1, '관광업계': 1, '업계': 1, '데': 1, '데믹': 1, '믹': 1, '내수': 1, '경기': 1, '경기도': 1, '도': 1, '기대': 1, '무단': 1, '전재': 1, '배포': 1, '금지': 1, '페이스': 1, '페이스북': 1, '북': 1, '인': 1, '인스타그램': 1, '스타': 1, '그램': 1})\n",
      "[('중', 2), ('코로나', 1), ('코로나19', 1), ('19', 1), ('이후', 1), ('마스크', 1), ('추석', 1), ('연휴', 1), ('최소', 1), ('6', 1)]\n"
     ]
    },
    {
     "data": {
      "text/plain": [
       "{}"
      ]
     },
     "execution_count": 78,
     "metadata": {},
     "output_type": "execute_result"
    }
   ],
   "source": [
    "from collections import Counter\n",
    "# 글자수 2이상 빈도 2이상 워드 클라우드 그리기\n",
    "nouns1=kkma.nouns(data)\n",
    "counter1=Counter(nouns1)\n",
    "print(counter1)\n",
    "counter2=counter1.most_common(10)\n",
    "print(counter2)\n",
    "\n",
    "counter3=dict()\n",
    "for tag,count in counter1.items():\n",
    "  if (len(tag)>1) and (count>1): #글자수 2자이상, 빈도수 2 이상만 추출\n",
    "    counter3[tag]=count\n",
    "counter3    "
   ]
  },
  {
   "cell_type": "code",
   "execution_count": 85,
   "metadata": {},
   "outputs": [],
   "source": [
    "\n",
    "# from wordcloud import WordCloud\n",
    "# # 워드클라우드 생성\n",
    "# font_path='c:/Windows/fonts/malgun.ttf'\n",
    "\n",
    "# wc1=WordCloud(width=800,height=600, background_color='white', font_path=font_path,random_state=0)\n",
    "\n",
    "# plt.imshow(wc1.generate_from_frequencies(counter3))\n",
    "# plt.axis('off')\n",
    "# plt.show()"
   ]
  }
 ],
 "metadata": {
  "kernelspec": {
   "display_name": "base",
   "language": "python",
   "name": "python3"
  },
  "language_info": {
   "codemirror_mode": {
    "name": "ipython",
    "version": 3
   },
   "file_extension": ".py",
   "mimetype": "text/x-python",
   "name": "python",
   "nbconvert_exporter": "python",
   "pygments_lexer": "ipython3",
   "version": "3.11.4"
  },
  "orig_nbformat": 4
 },
 "nbformat": 4,
 "nbformat_minor": 2
}
